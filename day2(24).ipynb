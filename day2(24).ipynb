{
 "cells": [
  {
   "cell_type": "code",
   "execution_count": 1,
   "metadata": {},
   "outputs": [
    {
     "name": "stdout",
     "output_type": "stream",
     "text": [
      "1\n",
      "2\n",
      "3\n",
      "4\n",
      "5\n",
      "6\n",
      "7\n",
      "8\n",
      "9\n"
     ]
    }
   ],
   "source": [
    "s=1\n",
    "e=10\n",
    "for i in range(1,10):\n",
    "    print(i)"
   ]
  },
  {
   "cell_type": "code",
   "execution_count": 2,
   "metadata": {},
   "outputs": [
    {
     "name": "stdout",
     "output_type": "stream",
     "text": [
      "1\n",
      "2\n",
      "3\n",
      "4\n",
      "5\n",
      "6\n",
      "7\n",
      "8\n",
      "9\n",
      "10\n"
     ]
    }
   ],
   "source": [
    "s=1\n",
    "e=10\n",
    "for i in range(s,e+1):\n",
    "    print(i)"
   ]
  },
  {
   "cell_type": "code",
   "execution_count": 5,
   "metadata": {},
   "outputs": [
    {
     "name": "stdout",
     "output_type": "stream",
     "text": [
      "100 99 98 97 96 95 94 93 92 91 90 89 88 87 86 85 84 83 82 81 80 79 78 77 76 75 74 73 72 71 70 69 68 67 66 65 64 63 62 61 60 59 58 57 56 55 54 53 52 51 50 49 48 47 46 45 44 43 42 41 40 39 38 37 36 35 34 33 32 31 30 29 28 27 26 25 24 23 22 21 20 19 18 17 16 15 14 13 12 11 10 9 8 7 6 5 4 3 2 "
     ]
    }
   ],
   "source": [
    "s=1\n",
    "e=100\n",
    "for i in range(e,s,-1):\n",
    "    print(i,end=\" \")"
   ]
  },
  {
   "cell_type": "code",
   "execution_count": 6,
   "metadata": {},
   "outputs": [
    {
     "name": "stdout",
     "output_type": "stream",
     "text": [
      "value position 0 ---> 18\n",
      "value position 1 ---> 69\n",
      "value position 2 ---> 46\n",
      "value position 3 ---> 22\n",
      "value position 4 ---> 33\n",
      "value position 5 ---> 11\n",
      "value position 6 ---> 77\n"
     ]
    }
   ],
   "source": [
    "t=0\n",
    "for i in [18,69,46,22,33,11,77]:\n",
    "    print(\"value position\",t,\"--->\",i)\n",
    "    t=t+1"
   ]
  },
  {
   "cell_type": "code",
   "execution_count": 8,
   "metadata": {},
   "outputs": [
    {
     "name": "stdout",
     "output_type": "stream",
     "text": [
      "enter starting range:25\n",
      "enter ending range:67\n",
      "25 26 27 28 29 30 31 32 33 34 35 36 37 38 39 40 41 42 43 44 45 46 47 48 49 50 51 52 53 54 55 56 57 58 59 60 61 62 63 64 65 66 67 "
     ]
    }
   ],
   "source": [
    "start=int(input(\"enter starting range:\"))\n",
    "end=int(input(\"enter ending range:\"))\n",
    "for i in range(start,end+1):\n",
    "    print(i,end=\" \")"
   ]
  },
  {
   "cell_type": "code",
   "execution_count": 11,
   "metadata": {},
   "outputs": [
    {
     "name": "stdout",
     "output_type": "stream",
     "text": [
      "enter starting range:20\n",
      "enter ending range:50\n",
      "20 22 24 26 28 30 32 34 36 38 40 42 44 46 48 50 "
     ]
    }
   ],
   "source": [
    "start=int(input(\"enter starting range:\"))\n",
    "end=int(input(\"enter ending range:\"))\n",
    "for i in range(start,end+1):\n",
    "    if(i%2==0):\n",
    "        print(i,end=\" \")"
   ]
  },
  {
   "cell_type": "code",
   "execution_count": 12,
   "metadata": {},
   "outputs": [
    {
     "name": "stdout",
     "output_type": "stream",
     "text": [
      "enter starting range:10\n",
      "enter ending range:56\n",
      "11 13 15 17 19 21 23 25 27 29 31 33 35 37 39 41 43 45 47 49 51 53 55 "
     ]
    }
   ],
   "source": [
    "start=int(input(\"enter starting range:\"))\n",
    "end=int(input(\"enter ending range:\"))\n",
    "for i in range(start,end+1):\n",
    "    if(i%2==1):\n",
    "        print(i,end=\" \")"
   ]
  },
  {
   "cell_type": "code",
   "execution_count": 16,
   "metadata": {},
   "outputs": [
    {
     "name": "stdout",
     "output_type": "stream",
     "text": [
      "1\n",
      "10\n",
      "5 * 2 + 2 ^ 1 --> 12\n",
      "12\n",
      "5 * 2 + 2 ^ 2 --> 14\n",
      "14\n",
      "5 * 2 + 2 ^ 3 --> 18\n",
      "18\n",
      "5 * 2 + 2 ^ 4 --> 26\n",
      "26\n",
      "5 * 2 + 2 ^ 5 --> 42\n",
      "42\n",
      "5 * 2 + 2 ^ 6 --> 74\n",
      "74\n",
      "5 * 2 + 2 ^ 7 --> 138\n",
      "138\n",
      "5 * 2 + 2 ^ 8 --> 266\n",
      "266\n",
      "5 * 2 + 2 ^ 9 --> 522\n",
      "522\n",
      "5 * 2 + 2 ^ 10 --> 1034\n",
      "1034\n"
     ]
    }
   ],
   "source": [
    "s=int(input())\n",
    "e=int(input())\n",
    "n1=5\n",
    "n2=2\n",
    "for i in range(s,e+1):\n",
    "    expre=n1*n2+n2**i\n",
    "    print(n1,\"*\",n2,\"+\",n2,\"^\",i,\"-->\",expre)\n",
    "    print(expre)"
   ]
  },
  {
   "cell_type": "code",
   "execution_count": 19,
   "metadata": {},
   "outputs": [
    {
     "name": "stdout",
     "output_type": "stream",
     "text": [
      "1\n",
      "10\n",
      "55\n"
     ]
    }
   ],
   "source": [
    "s=int(input())\n",
    "e=int(input())\n",
    "s1=0\n",
    "for i in range(s,e+1):\n",
    "    s1=s1+i\n",
    "print(s1)"
   ]
  },
  {
   "cell_type": "code",
   "execution_count": 20,
   "metadata": {},
   "outputs": [
    {
     "name": "stdout",
     "output_type": "stream",
     "text": [
      "enter n value:28\n",
      "1 \n",
      " factors sum= 1\n",
      "2 \n",
      " factors sum= 3\n",
      "4 \n",
      " factors sum= 7\n",
      "7 \n",
      " factors sum= 14\n",
      "14 \n",
      " factors sum= 28\n",
      "28 \n",
      " factors sum= 56\n"
     ]
    }
   ],
   "source": [
    "n=int(input(\"enter n value:\"))\n",
    "s1=0\n",
    "for i in range(1,n+1):\n",
    "    if n%i==0:\n",
    "        print(i,end=\" \")\n",
    "        s1=s1+i\n",
    "        print(\"\\n factors sum=\",s1)\n",
    "    "
   ]
  },
  {
   "cell_type": "code",
   "execution_count": 22,
   "metadata": {},
   "outputs": [
    {
     "name": "stdout",
     "output_type": "stream",
     "text": [
      "enter n value:25\n",
      "25 --> 25 *3+1--> 76\n",
      "cycle count= 2\n",
      "76 --> 76 /2--> 38.0\n",
      "38.0 --> 38.0 /2--> 19.0\n",
      "19.0 --> 19.0 *3+1--> 58.0\n",
      "cycle count= 3\n",
      "58.0 --> 58.0 /2--> 29.0\n",
      "29.0 --> 29.0 *3+1--> 88.0\n",
      "cycle count= 4\n",
      "88.0 --> 88.0 /2--> 44.0\n",
      "44.0 --> 44.0 /2--> 22.0\n",
      "22.0 --> 22.0 /2--> 11.0\n",
      "11.0 --> 11.0 *3+1--> 34.0\n",
      "cycle count= 5\n",
      "34.0 --> 34.0 /2--> 17.0\n",
      "17.0 --> 17.0 *3+1--> 52.0\n",
      "cycle count= 6\n",
      "52.0 --> 52.0 /2--> 26.0\n",
      "26.0 --> 26.0 /2--> 13.0\n",
      "13.0 --> 13.0 *3+1--> 40.0\n",
      "cycle count= 7\n",
      "40.0 --> 40.0 /2--> 20.0\n",
      "20.0 --> 20.0 /2--> 10.0\n",
      "10.0 --> 10.0 /2--> 5.0\n",
      "5.0 --> 5.0 *3+1--> 16.0\n",
      "cycle count= 8\n",
      "16.0 --> 16.0 /2--> 8.0\n",
      "8.0 --> 8.0 /2--> 4.0\n",
      "4.0 --> 4.0 /2--> 2.0\n",
      "2.0 --> 2.0 /2--> 1.0\n"
     ]
    }
   ],
   "source": [
    "n=int(input(\"enter n value:\"))\n",
    "count=1\n",
    "while(n!=1):\n",
    "    if(n%2==0):\n",
    "        print(n,\"-->\",n,\"/2-->\",end=\" \")\n",
    "        n=n/2\n",
    "        print(n)\n",
    "    else:\n",
    "            print(n,\"-->\",n,\"*3+1-->\",end=\" \")\n",
    "            n=n*3+1\n",
    "            print(n)\n",
    "            count=count+1\n",
    "            print(\"cycle count=\",count)"
   ]
  },
  {
   "cell_type": "code",
   "execution_count": 24,
   "metadata": {},
   "outputs": [
    {
     "name": "stdout",
     "output_type": "stream",
     "text": [
      "enter t_case values3\n",
      "enter h value180\n",
      "enter w value340\n",
      "upload another\n",
      "enter h value180\n",
      "enter w value180\n",
      "accepted\n",
      "enter h value240\n",
      "enter w value350\n",
      "crop it\n"
     ]
    }
   ],
   "source": [
    "t_case=int(input(\"enter t_case values\"))\n",
    "for i in range(1,t_case+1):\n",
    "    length=180\n",
    "    h=int(input(\"enter h value\"))\n",
    "    w=int(input(\"enter w value\"))\n",
    "    if(w>length and h>length):\n",
    "        print(\"crop it\")\n",
    "    elif(w==length and h==length):\n",
    "        print(\"accepted\")\n",
    "    else:\n",
    "        print(\"upload another\")"
   ]
  },
  {
   "cell_type": "code",
   "execution_count": 1,
   "metadata": {},
   "outputs": [
    {
     "name": "stdout",
     "output_type": "stream",
     "text": [
      "enter table number:2\n",
      "2 * 1 = 2\n",
      "2 * 2 = 4\n",
      "2 * 3 = 6\n",
      "2 * 4 = 8\n",
      "2 * 5 = 10\n",
      "2 * 6 = 12\n",
      "2 * 7 = 14\n",
      "2 * 8 = 16\n",
      "2 * 9 = 18\n",
      "2 * 10 = 20\n"
     ]
    }
   ],
   "source": [
    "n=int(input(\"enter table number:\"))\n",
    "for i in range(1,11):\n",
    "    print(n,\"*\",i,\"=\",(n*i))"
   ]
  },
  {
   "cell_type": "code",
   "execution_count": 3,
   "metadata": {},
   "outputs": [
    {
     "name": "stdout",
     "output_type": "stream",
     "text": [
      "enter n value:56\n",
      "6\n",
      "11\n"
     ]
    }
   ],
   "source": [
    "n=int(input(\"enter n value:\"))\n",
    "sum1=0\n",
    "while(n!=0):\n",
    "    sum1=sum1+(n%10)\n",
    "    n=n//10\n",
    "    print(sum1)"
   ]
  },
  {
   "cell_type": "code",
   "execution_count": 4,
   "metadata": {},
   "outputs": [
    {
     "name": "stdout",
     "output_type": "stream",
     "text": [
      "enter n value:343566878\n",
      "last digit= 8\n",
      "first digit= 34356687\n",
      "first digit= 3435668\n",
      "first digit= 343566\n",
      "first digit= 34356\n",
      "first digit= 3435\n",
      "first digit= 343\n",
      "first digit= 34\n",
      "first digit= 3\n"
     ]
    }
   ],
   "source": [
    "n=int(input(\"enter n value:\"))\n",
    "print(\"last digit=\",n%10)\n",
    "while(n>=10):\n",
    "    n=n//10\n",
    "    print(\"first digit=\",n)"
   ]
  },
  {
   "cell_type": "code",
   "execution_count": 6,
   "metadata": {},
   "outputs": [
    {
     "name": "stdout",
     "output_type": "stream",
     "text": [
      "enter t_case:3\n",
      "enter n value:1456\n",
      "illegal ISBN\n",
      "enter n value:1401601499\n",
      "legal ISBN\n",
      "enter n value:234567892334\n",
      "illegal ISBN\n"
     ]
    }
   ],
   "source": [
    "t_case=int(input(\"enter t_case:\"))\n",
    "for i in range(t_case):\n",
    "    n=int(input(\"enter n value:\"))\n",
    "    temp=n\n",
    "    count=0\n",
    "    sum1=0\n",
    "    i=10\n",
    "    while(n!=0):\n",
    "        count=count+1\n",
    "        n=n//10\n",
    "    if count==10:\n",
    "        while(temp!=0):\n",
    "                r=temp%10\n",
    "                sum1=sum1+(r*i)\n",
    "                i=i-1\n",
    "                temp=temp//10\n",
    "        if(sum1%11==0):  \n",
    "                print(\"legal ISBN\")\n",
    "        else:\n",
    "                print(\"illegal ISBN\")\n",
    "    else:\n",
    "        print(\"illegal ISBN\")"
   ]
  },
  {
   "cell_type": "code",
   "execution_count": 9,
   "metadata": {},
   "outputs": [
    {
     "name": "stdout",
     "output_type": "stream",
     "text": [
      "1\n",
      "10\n",
      "85 736 8201 109386 1679629 28824020 536870929 10460353222 200000000021 3138428376744 "
     ]
    }
   ],
   "source": [
    "s=int(input())\n",
    "e=int(input())\n",
    "t=10\n",
    "for i in range(s,e+1):\n",
    "    n1=i+1\n",
    "    n2=i+2\n",
    "    expre=(n1+n2)+(n1**n2)*(t)\n",
    "    print(expre,end=\" \")\n",
    "    t=t-1"
   ]
  },
  {
   "cell_type": "code",
   "execution_count": 10,
   "metadata": {},
   "outputs": [
    {
     "name": "stdout",
     "output_type": "stream",
     "text": [
      "200\n",
      "500\n",
      "200 204 208 212 216 220 224 228 232 236 240 244 248 252 256 260 264 268 272 276 280 284 288 292 296 300 304 308 312 316 320 324 328 332 336 340 344 348 352 356 360 364 368 372 376 380 384 388 392 396 400 404 408 412 416 420 424 428 432 436 440 444 448 452 456 460 464 468 472 476 480 484 488 492 496 500 "
     ]
    }
   ],
   "source": [
    "n1=int(input())\n",
    "n2=int(input())\n",
    "for i in range(n1,n2+1):\n",
    "    if(i%4==0 or((i%100!=0) and (i%400==0))):\n",
    "        print(i,end=\" \")"
   ]
  },
  {
   "cell_type": "code",
   "execution_count": 11,
   "metadata": {},
   "outputs": [
    {
     "name": "stdout",
     "output_type": "stream",
     "text": [
      "enter t_case4\n",
      "enter table number:2\n",
      "2 * 1 = 2\n",
      "2 * 2 = 4\n",
      "2 * 3 = 6\n",
      "2 * 4 = 8\n",
      "2 * 5 = 10\n",
      "2 * 6 = 12\n",
      "2 * 7 = 14\n",
      "2 * 8 = 16\n",
      "2 * 9 = 18\n",
      "2 * 10 = 20\n",
      "enter table number:4\n",
      "4 * 1 = 4\n",
      "4 * 2 = 8\n",
      "4 * 3 = 12\n",
      "4 * 4 = 16\n",
      "4 * 5 = 20\n",
      "4 * 6 = 24\n",
      "4 * 7 = 28\n",
      "4 * 8 = 32\n",
      "4 * 9 = 36\n",
      "4 * 10 = 40\n",
      "enter table number:5\n",
      "5 * 1 = 5\n",
      "5 * 2 = 10\n",
      "5 * 3 = 15\n",
      "5 * 4 = 20\n",
      "5 * 5 = 25\n",
      "5 * 6 = 30\n",
      "5 * 7 = 35\n",
      "5 * 8 = 40\n",
      "5 * 9 = 45\n",
      "5 * 10 = 50\n",
      "enter table number:3\n",
      "3 * 1 = 3\n",
      "3 * 2 = 6\n",
      "3 * 3 = 9\n",
      "3 * 4 = 12\n",
      "3 * 5 = 15\n",
      "3 * 6 = 18\n",
      "3 * 7 = 21\n",
      "3 * 8 = 24\n",
      "3 * 9 = 27\n",
      "3 * 10 = 30\n"
     ]
    }
   ],
   "source": [
    "t_case=int(input(\"enter t_case\"))\n",
    "for i in range(t_case):\n",
    "    n=int(input(\"enter table number:\"))\n",
    "    for i in range(1,11):\n",
    "        print(n,\"*\",i,\"=\",(n*i))\n"
   ]
  },
  {
   "cell_type": "code",
   "execution_count": 16,
   "metadata": {},
   "outputs": [
    {
     "name": "stdout",
     "output_type": "stream",
     "text": [
      "enter table number:2\n",
      "enter table number:4\n",
      "1 * 2 = 2\n",
      "1 * 3 = 3\n",
      "2 * 2 = 4\n",
      "2 * 3 = 6\n",
      "3 * 2 = 6\n",
      "3 * 3 = 9\n",
      "4 * 2 = 8\n",
      "4 * 3 = 12\n",
      "5 * 2 = 10\n",
      "5 * 3 = 15\n",
      "6 * 2 = 12\n",
      "6 * 3 = 18\n",
      "7 * 2 = 14\n",
      "7 * 3 = 21\n",
      "8 * 2 = 16\n",
      "8 * 3 = 24\n",
      "9 * 2 = 18\n",
      "9 * 3 = 27\n",
      "10 * 2 = 20\n",
      "10 * 3 = 30\n"
     ]
    }
   ],
   "source": [
    "n1=int(input(\"enter table number:\"))\n",
    "n2=int(input(\"enter table number:\"))\n",
    "for i in range(1,11):\n",
    "    for j in range(n1,n2):    \n",
    "        print(i,\"*\",j,\"=\",(j*i))\n",
    "   \n",
    "\n"
   ]
  },
  {
   "cell_type": "code",
   "execution_count": null,
   "metadata": {},
   "outputs": [],
   "source": []
  }
 ],
 "metadata": {
  "kernelspec": {
   "display_name": "Python 3",
   "language": "python",
   "name": "python3"
  },
  "language_info": {
   "codemirror_mode": {
    "name": "ipython",
    "version": 3
   },
   "file_extension": ".py",
   "mimetype": "text/x-python",
   "name": "python",
   "nbconvert_exporter": "python",
   "pygments_lexer": "ipython3",
   "version": "3.7.1"
  }
 },
 "nbformat": 4,
 "nbformat_minor": 2
}
