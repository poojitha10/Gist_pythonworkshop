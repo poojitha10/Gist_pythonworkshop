{
 "cells": [
  {
   "cell_type": "code",
   "execution_count": 3,
   "metadata": {
    "scrolled": true
   },
   "outputs": [
    {
     "name": "stdout",
     "output_type": "stream",
     "text": [
      "enter stringaaabbbbcccccdddddd\n",
      "['a', 'a', 'a', 'b', 'b', 'b', 'b', 'c', 'c', 'c', 'c', 'c', 'd', 'd', 'd', 'd', 'd', 'd']\n",
      "{'a', 'b', 'd', 'c'}\n",
      "{'a': 3, 'b': 4, 'd': 6, 'c': 5}\n",
      "\n",
      "{3: 'a', 4: 'b', 6: 'd', 5: 'c'}\n"
     ]
    }
   ],
   "source": [
    "s=input(\"enter string\")\n",
    "o_1=list(s)\n",
    "d_1=set(o_1)\n",
    "print(o_1)\n",
    "print(d_1)\n",
    "freq_data1={}\n",
    "freq_data2={}\n",
    "for key in d_1:\n",
    "    freq_data1[key]=o_1.count(key)\n",
    "print(freq_data1)\n",
    "for key in d_1:\n",
    "    freq_data2[o_1.count(key)]=key\n",
    "print()\n",
    "print(freq_data2)\n",
    "    \n",
    "    \n",
    "    "
   ]
  },
  {
   "cell_type": "code",
   "execution_count": 10,
   "metadata": {},
   "outputs": [
    {
     "name": "stdout",
     "output_type": "stream",
     "text": [
      "{3: 'a', 4: 'b', 6: 'd', 5: 'c'}\n",
      "6\n",
      "3\n",
      "6 ---> d\n",
      "3 ---> a\n"
     ]
    }
   ],
   "source": [
    "print(freq_data2)\n",
    "key_list=list(freq_data2.keys())\n",
    "value_list=list(freq_data2.values())\n",
    "#print(key_list)\n",
    "#print(value_list)\n",
    "max1=max(key_list)\n",
    "min1=min(key_list)\n",
    "print(max1)\n",
    "print(min1)\n",
    "for key,value in freq_data2.items():\n",
    "    if(max1==key):\n",
    "        result_max=value\n",
    "    if(min1==key):\n",
    "        result_min=value\n",
    "print(max1,\"--->\",result_max)\n",
    "print(min1,\"--->\",result_min)"
   ]
  },
  {
   "cell_type": "code",
   "execution_count": 2,
   "metadata": {},
   "outputs": [
    {
     "name": "stdout",
     "output_type": "stream",
     "text": [
      "contact added/saved successfully---!!!\n"
     ]
    }
   ],
   "source": [
    "contact={}\n",
    "def add_contact(name,ph_no):\n",
    "    if(name in contact.keys()):\n",
    "        print(name,\"contact already exit---!!!\")\n",
    "    else:\n",
    "        contact[name]=ph_no\n",
    "        print(\"contact added/saved successfully---!!!\")\n",
    "add_contact(\"poojitha\",8247027765)        "
   ]
  },
  {
   "cell_type": "code",
   "execution_count": 3,
   "metadata": {},
   "outputs": [
    {
     "name": "stdout",
     "output_type": "stream",
     "text": [
      "1 .name= poojitha .phonenumber= 8247027765\n"
     ]
    }
   ],
   "source": [
    "def display_contact():\n",
    "    i=0\n",
    "    if(i<len(contact)):\n",
    "        for name,phone in contact.items():\n",
    "            print(i+1,\".name=\",name,\".phonenumber=\",phone)\n",
    "            i=i+1\n",
    "display_contact()            "
   ]
  },
  {
   "cell_type": "code",
   "execution_count": 14,
   "metadata": {},
   "outputs": [
    {
     "name": "stdout",
     "output_type": "stream",
     "text": [
      "poojitha does not exits in contact list...!!!\n"
     ]
    }
   ],
   "source": [
    "def delete_contact(name):\n",
    "    if(name in contact.keys()):\n",
    "        contact.pop(name)\n",
    "        print(name,\"deleted successfully....!!!\")\n",
    "    else:\n",
    "        print(name,\"does not exits in contact list...!!!\")\n",
    "delete_contact(\"poojitha\")   "
   ]
  },
  {
   "cell_type": "code",
   "execution_count": 6,
   "metadata": {},
   "outputs": [
    {
     "name": "stdout",
     "output_type": "stream",
     "text": [
      "contact not exits....!!!!\n"
     ]
    }
   ],
   "source": [
    "def update_contact(name,ph_no):\n",
    "    if name in contact.keys():\n",
    "        contact[name]=ph_no\n",
    "        print(\" \")\n",
    "    else:\n",
    "        print(\"contact not exits....!!!!\")\n",
    "update_contact(\"saritha\",9492614944)        "
   ]
  },
  {
   "cell_type": "code",
   "execution_count": 10,
   "metadata": {},
   "outputs": [
    {
     "name": "stdout",
     "output_type": "stream",
     "text": [
      "saritha don't exits...!!!\n"
     ]
    }
   ],
   "source": [
    "def search_contact(name):\n",
    "    if(name in contact.keys()):\n",
    "        print(\"name=\",name,\"phonenumber=\",contact[name])\n",
    "    else:\n",
    "        print(name,\"don't exits...!!!\")\n",
    "search_contact(\"saritha\")            \n",
    "            \n",
    "            \n",
    "    #name_ph_no=input(\"enter name/phone_number:\")\n",
    "    #if(name_ph_no.isalpha()):\n",
    "       # if name_ph_no in contact.keys():\n",
    "           # print(\"name=\",name_ph_no,\"phonenumber=\",contact[name_ph_no])\n",
    "        #else:\n",
    "            #print(name_ph_no,\"does not exits in contact...!!!\")\n",
    "     #else:       \n",
    "       #if(name_ph_no in contact.values()):\n",
    "           # for name,phone in correct.item():\n",
    "                #if(name_ph_no==phone):\n",
    "                    #print(\"name=\",)"
   ]
  },
  {
   "cell_type": "code",
   "execution_count": null,
   "metadata": {},
   "outputs": [],
   "source": []
  }
 ],
 "metadata": {
  "kernelspec": {
   "display_name": "Python 3",
   "language": "python",
   "name": "python3"
  },
  "language_info": {
   "codemirror_mode": {
    "name": "ipython",
    "version": 3
   },
   "file_extension": ".py",
   "mimetype": "text/x-python",
   "name": "python",
   "nbconvert_exporter": "python",
   "pygments_lexer": "ipython3",
   "version": "3.7.1"
  }
 },
 "nbformat": 4,
 "nbformat_minor": 2
}
