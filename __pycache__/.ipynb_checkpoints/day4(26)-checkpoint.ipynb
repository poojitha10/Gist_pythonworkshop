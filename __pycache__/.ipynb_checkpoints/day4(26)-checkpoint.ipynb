{
 "cells": [
  {
   "cell_type": "code",
   "execution_count": 1,
   "metadata": {
    "scrolled": true
   },
   "outputs": [
    {
     "name": "stdout",
     "output_type": "stream",
     "text": [
      "python programming\n",
      "6\n",
      "11\n",
      " programming\n",
      "even charaters\n",
      "p\n",
      "t\n",
      "o\n",
      " \n",
      "r\n",
      "g\n",
      "a\n",
      "m\n",
      "n\n",
      "odd characters\n",
      "y\n",
      "h\n",
      "n\n",
      "p\n",
      "o\n",
      "r\n",
      "m\n",
      "i\n",
      "g\n",
      "p\n",
      "y\n"
     ]
    }
   ],
   "source": [
    "s=\"python programming\"\n",
    "print(s[0:])\n",
    "pos=s.index('')\n",
    "for i in range(len(s)):\n",
    "    if (s[i].isspace()):\n",
    "        pos=i\n",
    "for i in range(len(s)):\n",
    "    if(s[i]=='r'):\n",
    "        pos2=i\n",
    "print(pos)\n",
    "print(pos2)\n",
    "print(s[pos:])\n",
    "print(\"even charaters\")\n",
    "for i in range(len(s)):\n",
    "    if(i%2==0):\n",
    "        print(s[i])\n",
    "print(\"odd characters\")\n",
    "for i in range(len(s)):\n",
    "    if(i%2!=0):\n",
    "        print(s[i])\n",
    "print(s[0:1])\n",
    "print(s[1:2])"
   ]
  },
  {
   "cell_type": "code",
   "execution_count": 3,
   "metadata": {},
   "outputs": [
    {
     "name": "stdout",
     "output_type": "stream",
     "text": [
      "python programming\n",
      "g\n",
      "n\n",
      "i\n",
      "m\n",
      "m\n",
      "a\n",
      "r\n",
      "g\n",
      "o\n",
      "r\n",
      "p\n",
      " \n",
      "n\n",
      "o\n",
      "h\n",
      "t\n",
      "gnimmargorp nohtyp\n"
     ]
    }
   ],
   "source": [
    "print(s)\n",
    "l=-(len(s))\n",
    "for i in range(-1,l+1,-1):\n",
    "    print(s[i])\n",
    "print(s[::-1])"
   ]
  },
  {
   "cell_type": "code",
   "execution_count": 4,
   "metadata": {},
   "outputs": [
    {
     "name": "stdout",
     "output_type": "stream",
     "text": [
      "palindrome\n"
     ]
    }
   ],
   "source": [
    "string=\"1001\"\n",
    "revstring=string[::-1]\n",
    "if(string==revstring):\n",
    "    print(\"palindrome\")\n",
    "else:\n",
    "    print(\"not palindrome\")\n",
    "    "
   ]
  },
  {
   "cell_type": "code",
   "execution_count": 7,
   "metadata": {},
   "outputs": [
    {
     "name": "stdout",
     "output_type": "stream",
     "text": [
      "enter your data:fhgsjdlkspk32254\n",
      "['f', 'h', 'g', 's', 'j', 'd', 'l', 'k', 's', 'p', 'k']\n",
      "['3', '2', '2', '5', '4']\n",
      "['d', 'f', 'g', 'h', 'j', 'k', 'k', 'l', 'p', 's', 's']\n",
      "['2', '2', '3', '4', '5']\n",
      "d f g h j k k l p s s\n",
      "2 2 3 4 5\n",
      "d f g h j k k l p s s2 2 3 4 5\n"
     ]
    }
   ],
   "source": [
    "s=input(\"enter your data:\")\n",
    "alphabets=[]\n",
    "numeric=[]\n",
    "for i in range(len(s)):\n",
    "    if(s[i].isalpha()):\n",
    "        alphabets.append(s[i])\n",
    "    if(s[i].isnumeric()):\n",
    "        numeric.append(s[i])\n",
    "print(alphabets)\n",
    "print(numeric)\n",
    "alphabets=sorted(alphabets)\n",
    "numeric=sorted(numeric)\n",
    "print(alphabets)\n",
    "print(numeric)\n",
    "sorted_alphabet_list=\" \".join(alphabets)\n",
    "sorted_numeric_list=\" \".join(numeric)\n",
    "print(sorted_alphabet_list)\n",
    "print(sorted_numeric_list)\n",
    "data=sorted_alphabet_list+sorted_numeric_list\n",
    "print(data)"
   ]
  },
  {
   "cell_type": "code",
   "execution_count": 8,
   "metadata": {},
   "outputs": [
    {
     "name": "stdout",
     "output_type": "stream",
     "text": [
      "enter stringpoojitha\n",
      "pppp oooo oooo jjjj iiii tttt hhhh aaaa "
     ]
    }
   ],
   "source": [
    "s=input(\"enter string\")\n",
    "for i in range(len(s)):\n",
    "    print(s[i]*4,end=\" \")"
   ]
  },
  {
   "cell_type": "code",
   "execution_count": 11,
   "metadata": {},
   "outputs": [
    {
     "name": "stdout",
     "output_type": "stream",
     "text": [
      "cse3ece4civ5mech2\n",
      " cse cse cse\n",
      " cseece cseece cseece cseece\n",
      " cseececiv cseececiv cseececiv cseececiv cseececiv\n",
      " cseececivmech cseececivmech\n"
     ]
    }
   ],
   "source": [
    "s=input()\n",
    "data=' '\n",
    "for i in range(len(s)):\n",
    "    if(s[i].isalpha()):\n",
    "        data=data+s[i]\n",
    "    if(s[i].isnumeric()):\n",
    "        print(data*int(s[i]))\n",
    "data=' '"
   ]
  },
  {
   "cell_type": "code",
   "execution_count": 14,
   "metadata": {},
   "outputs": [
    {
     "name": "stdout",
     "output_type": "stream",
     "text": [
      "enter a string:poojitha aishwarya hansika vidya\n",
      "['poojitha', 'aishwarya', 'hansika', 'vidya']\n",
      "even pos data:ahtijoop aishwarya akisnah vidya \n",
      "odd pos data:poojitha ayrawhsia hansika aydiv \n",
      "all reverse data: ahtijoop ayrawhsia akisnah aydiv "
     ]
    }
   ],
   "source": [
    "data=input(\"enter a string:\")\n",
    "data=data.split()\n",
    "print(data)\n",
    "print(\"even pos data:\",end=\"\")\n",
    "for i in range(len(data)):\n",
    "    if(i%2==0):\n",
    "        print(data[i][::-1],end=\" \")\n",
    "    else:\n",
    "        print(data[i],end=\" \") \n",
    "print(\"\\nodd pos data:\",end=\"\")\n",
    "for i in range(len(data)):\n",
    "    if(i%2==1):\n",
    "        print(data[i][::-1],end=\" \")\n",
    "    else:\n",
    "        print(data[i],end=\" \")\n",
    "print(\"\\nall reverse data:\",end=\" \")\n",
    "for i in range(len(data)):\n",
    "    print(data[i][::-1],end=\" \")"
   ]
  },
  {
   "cell_type": "code",
   "execution_count": 27,
   "metadata": {},
   "outputs": [
    {
     "name": "stdout",
     "output_type": "stream",
     "text": [
      "a ---> 4\n",
      "a ---> 4\n",
      "a ---> 4\n",
      "a ---> 4\n",
      "b ---> 4\n",
      "b ---> 4\n",
      "b ---> 4\n",
      "b ---> 4\n",
      "c ---> 5\n",
      "c ---> 5\n",
      "c ---> 5\n",
      "c ---> 5\n",
      "c ---> 5\n",
      "d ---> 6\n",
      "d ---> 6\n",
      "d ---> 6\n",
      "d ---> 6\n",
      "d ---> 6\n",
      "d ---> 6\n",
      "e ---> 6\n",
      "e ---> 6\n",
      "e ---> 6\n",
      "e ---> 6\n",
      "e ---> 6\n",
      "e ---> 6\n"
     ]
    }
   ],
   "source": [
    "s='aaaabbbbcccccddddddeeeeee'\n",
    "#for i in range(len(s)):\n",
    "    #print(s[i],\"--->\",s.count(s[i])\n",
    "for ch in s:\n",
    "    print(ch,\"--->\",s.count(ch))\n",
    "    s=list(s)\n",
    "    #print(s)\n",
    "li=[]\n",
    "for ch in s:\n",
    "    if ch not in li:\n",
    "        li.append(ch)\n",
    "#print(li)        "
   ]
  },
  {
   "cell_type": "code",
   "execution_count": 28,
   "metadata": {},
   "outputs": [
    {
     "name": "stdout",
     "output_type": "stream",
     "text": [
      "['a', 'b', 'c', 'd', 'e']\n",
      "['a', 'a', 'a', 'a', 'b', 'b', 'b', 'b', 'c', 'c', 'c', 'c', 'c', 'd', 'd', 'd', 'd', 'd', 'd', 'e', 'e', 'e', 'e', 'e', 'e']\n"
     ]
    }
   ],
   "source": [
    "print(li)\n",
    "print(s)"
   ]
  },
  {
   "cell_type": "code",
   "execution_count": 29,
   "metadata": {},
   "outputs": [
    {
     "name": "stdout",
     "output_type": "stream",
     "text": [
      "a ---> 4\n",
      "b ---> 4\n",
      "c ---> 5\n",
      "d ---> 6\n",
      "e ---> 6\n"
     ]
    }
   ],
   "source": [
    "for ch in li:\n",
    "    print(ch,\"--->\",s.count(ch))\n",
    "#for i in range(len(li)):\n",
    "#print(li[i],\"--->\",s.count(li[i]))"
   ]
  },
  {
   "cell_type": "code",
   "execution_count": 30,
   "metadata": {},
   "outputs": [
    {
     "name": "stdout",
     "output_type": "stream",
     "text": [
      "d --> 3\n",
      "a --> 3\n",
      "c --> 1\n",
      "e --> 4\n",
      "v --> 3\n",
      "t --> 3\n"
     ]
    }
   ],
   "source": [
    "s=\"adddaattteeeecvvv\"\n",
    "d=list(s)\n",
    "n=set(s)\n",
    "for ch in n:\n",
    "    print(ch,\"-->\",d.count(ch))\n",
    "    "
   ]
  },
  {
   "cell_type": "code",
   "execution_count": 4,
   "metadata": {},
   "outputs": [
    {
     "name": "stdout",
     "output_type": "stream",
     "text": [
      "43457hjk\n"
     ]
    },
    {
     "ename": "ValueError",
     "evalue": "invalid literal for int() with base 10: 'h'",
     "output_type": "error",
     "traceback": [
      "\u001b[1;31m---------------------------------------------------------------------------\u001b[0m",
      "\u001b[1;31mValueError\u001b[0m                                Traceback (most recent call last)",
      "\u001b[1;32m<ipython-input-4-2b065a32b1e0>\u001b[0m in \u001b[0;36m<module>\u001b[1;34m\u001b[0m\n\u001b[0;32m      6\u001b[0m     \u001b[1;32mif\u001b[0m\u001b[1;33m(\u001b[0m\u001b[0ms\u001b[0m\u001b[1;33m[\u001b[0m\u001b[0mi\u001b[0m\u001b[1;33m]\u001b[0m\u001b[1;33m.\u001b[0m\u001b[0misnumeric\u001b[0m\u001b[1;33m)\u001b[0m\u001b[1;33m:\u001b[0m\u001b[1;33m\u001b[0m\u001b[1;33m\u001b[0m\u001b[0m\n\u001b[0;32m      7\u001b[0m         \u001b[0masc\u001b[0m\u001b[1;33m=\u001b[0m\u001b[0mord\u001b[0m\u001b[1;33m(\u001b[0m\u001b[0ms\u001b[0m\u001b[1;33m[\u001b[0m\u001b[0mi\u001b[0m\u001b[1;33m-\u001b[0m\u001b[1;36m1\u001b[0m\u001b[1;33m]\u001b[0m\u001b[1;33m)\u001b[0m\u001b[1;33m\u001b[0m\u001b[1;33m\u001b[0m\u001b[0m\n\u001b[1;32m----> 8\u001b[1;33m     \u001b[0mdata\u001b[0m\u001b[1;33m=\u001b[0m\u001b[0mdata\u001b[0m\u001b[1;33m+\u001b[0m\u001b[0mchr\u001b[0m\u001b[1;33m(\u001b[0m\u001b[0masc\u001b[0m\u001b[1;33m+\u001b[0m\u001b[0mint\u001b[0m\u001b[1;33m(\u001b[0m\u001b[0ms\u001b[0m\u001b[1;33m[\u001b[0m\u001b[0mi\u001b[0m\u001b[1;33m]\u001b[0m\u001b[1;33m)\u001b[0m\u001b[1;33m)\u001b[0m\u001b[1;33m\u001b[0m\u001b[1;33m\u001b[0m\u001b[0m\n\u001b[0m\u001b[0;32m      9\u001b[0m \u001b[0mprint\u001b[0m\u001b[1;33m(\u001b[0m\u001b[0mdata\u001b[0m\u001b[1;33m)\u001b[0m\u001b[1;33m\u001b[0m\u001b[1;33m\u001b[0m\u001b[0m\n",
      "\u001b[1;31mValueError\u001b[0m: invalid literal for int() with base 10: 'h'"
     ]
    }
   ],
   "source": [
    "s=input()\n",
    "data=' '\n",
    "for i in range(len(s)):\n",
    "    if(s[i].isalpha()):\n",
    "        data=data+s[i]\n",
    "    if(s[i].isnumeric):\n",
    "        asc=ord(s[i-1])\n",
    "    data=data+chr(asc+int(s[i]))\n",
    "print(data)"
   ]
  },
  {
   "cell_type": "code",
   "execution_count": 5,
   "metadata": {},
   "outputs": [
    {
     "data": {
      "text/plain": [
       "['poojitha', 570, 'nikhil', 560]"
      ]
     },
     "execution_count": 5,
     "metadata": {},
     "output_type": "execute_result"
    }
   ],
   "source": [
    "r=[\"poojitha\",570,\"nikhil\",560]\n",
    "r"
   ]
  },
  {
   "cell_type": "code",
   "execution_count": 7,
   "metadata": {},
   "outputs": [
    {
     "data": {
      "text/plain": [
       "['xyz', 'abc', 5, 4, 3, 2, 1]"
      ]
     },
     "execution_count": 7,
     "metadata": {},
     "output_type": "execute_result"
    }
   ],
   "source": [
    "l2=[1,2,3,4,5,\"abc\",\"xyz\"]\n",
    "l2[::-1]"
   ]
  },
  {
   "cell_type": "code",
   "execution_count": 8,
   "metadata": {},
   "outputs": [],
   "source": [
    "l3=[1,2,3,4]\n",
    "l4=[5,6,7]\n",
    "l5=l3+l4"
   ]
  },
  {
   "cell_type": "code",
   "execution_count": 9,
   "metadata": {},
   "outputs": [
    {
     "data": {
      "text/plain": [
       "[1, 2, 3, 4, 5, 6, 7]"
      ]
     },
     "execution_count": 9,
     "metadata": {},
     "output_type": "execute_result"
    }
   ],
   "source": [
    "l5"
   ]
  },
  {
   "cell_type": "code",
   "execution_count": 11,
   "metadata": {},
   "outputs": [
    {
     "data": {
      "text/plain": [
       "7"
      ]
     },
     "execution_count": 11,
     "metadata": {},
     "output_type": "execute_result"
    }
   ],
   "source": [
    "max(l5)"
   ]
  },
  {
   "cell_type": "code",
   "execution_count": null,
   "metadata": {},
   "outputs": [],
   "source": []
  }
 ],
 "metadata": {
  "kernelspec": {
   "display_name": "Python 3",
   "language": "python",
   "name": "python3"
  },
  "language_info": {
   "codemirror_mode": {
    "name": "ipython",
    "version": 3
   },
   "file_extension": ".py",
   "mimetype": "text/x-python",
   "name": "python",
   "nbconvert_exporter": "python",
   "pygments_lexer": "ipython3",
   "version": "3.7.1"
  }
 },
 "nbformat": 4,
 "nbformat_minor": 2
}
